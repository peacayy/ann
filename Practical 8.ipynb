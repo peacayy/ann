{
 "cells": [
  {
   "cell_type": "code",
   "execution_count": 1,
   "id": "cc6d74ec",
   "metadata": {},
   "outputs": [],
   "source": [
    "# Write a python program to design a Hopfield Network which stores 4 vectors\n",
    "import numpy as np"
   ]
  },
  {
   "cell_type": "code",
   "execution_count": 2,
   "id": "7301d8fc",
   "metadata": {},
   "outputs": [
    {
     "name": "stdout",
     "output_type": "stream",
     "text": [
      "Input Vector: [ 1  1 -1 -1]\n",
      "Output Vector: [ 1  1 -1 -1]\n",
      "Input Vector: [ 1 -1  1 -1]\n",
      "Output Vector: [ 1 -1  1 -1]\n",
      "Input Vector: [-1  1 -1  1]\n",
      "Output Vector: [-1  1 -1  1]\n",
      "Input Vector: [-1 -1  1  1]\n",
      "Output Vector: [-1 -1  1  1]\n"
     ]
    }
   ],
   "source": [
    "vector =np.array([[1,1,-1,-1],\n",
    "                  [1,-1,1,-1],\n",
    "                  [-1 ,1,-1,1],\n",
    "                  [-1,-1,1,1]])\n",
    "\n",
    "weights = np.zeros((4,4))\n",
    "for i in range(4):\n",
    "    for j in range(4):\n",
    "        if i==j:\n",
    "            weights[i][j] =0\n",
    "        else:\n",
    "            weights[i][j] = (np.dot(vector[i] , vector[j]))/4\n",
    "            \n",
    "\n",
    "def activation(x):\n",
    "    if x>=0:\n",
    "        return 1\n",
    "    else :\n",
    "        return -1\n",
    "\n",
    "def hopfield_network(x,weights):\n",
    "    y =np.copy(x)\n",
    "    for i in range(4):\n",
    "        sum=0\n",
    "        for j in range(4):\n",
    "            sum += weights[i][j] * y[j]\n",
    "        y[i] = activation(sum)\n",
    "    return y\n",
    "\n",
    "for i in range(4):\n",
    "    print(\"Input Vector:\",vector[i])\n",
    "    output = hopfield_network(vector[i],weights)\n",
    "    print(\"Output Vector:\",output)"
   ]
  },
  {
   "cell_type": "code",
   "execution_count": null,
   "id": "402a9663",
   "metadata": {},
   "outputs": [],
   "source": []
  }
 ],
 "metadata": {
  "kernelspec": {
   "display_name": "Python 3 (ipykernel)",
   "language": "python",
   "name": "python3"
  },
  "language_info": {
   "codemirror_mode": {
    "name": "ipython",
    "version": 3
   },
   "file_extension": ".py",
   "mimetype": "text/x-python",
   "name": "python",
   "nbconvert_exporter": "python",
   "pygments_lexer": "ipython3",
   "version": "3.11.5"
  }
 },
 "nbformat": 4,
 "nbformat_minor": 5
}
