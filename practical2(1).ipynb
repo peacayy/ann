{
 "cells": [
  {
   "cell_type": "code",
   "execution_count": 2,
   "id": "891e6523",
   "metadata": {},
   "outputs": [
    {
     "name": "stdout",
     "output_type": "stream",
     "text": [
      "Enter Weight for first input: 1\n",
      "Enter Weight for Second input: -1\n",
      "the neuron(1,0) with weights [1, -1]:1\n",
      "1 Means Activated and 0 Means De-Activated\n"
     ]
    }
   ],
   "source": [
    "class McCulloch:\n",
    "    def __init__(self,weights,threshold):\n",
    "        self.weights = weights\n",
    "        self.threshold =threshold\n",
    "\n",
    "    def activate(self,inputs):\n",
    "        sum_input = sum(w*i for w,i in zip(self.weights,inputs))\n",
    "        return 1 if sum_input>self.threshold else 0\n",
    "def AndNot(x,y,weights) :\n",
    "    threshold =0\n",
    "    neuron = McCulloch(weights,threshold)\n",
    "    return neuron.activate([x,y])\n",
    "weight_x = int(input(\"Enter Weight for first input: \"))\n",
    "weight_y = int(input(\"Enter Weight for Second input: \"))\n",
    "\n",
    "weights=[weight_x,weight_y]\n",
    "neuron = AndNot(1,0,weights)\n",
    "print(f\"the neuron(1,0) with weights {weights}:{neuron}\")\n",
    "print(\"1 Means Activated and 0 Means De-Activated\")    "
   ]
  },
  {
   "cell_type": "code",
   "execution_count": null,
   "id": "2dafd37e",
   "metadata": {},
   "outputs": [],
   "source": []
  }
 ],
 "metadata": {
  "kernelspec": {
   "display_name": "Python 3 (ipykernel)",
   "language": "python",
   "name": "python3"
  },
  "language_info": {
   "codemirror_mode": {
    "name": "ipython",
    "version": 3
   },
   "file_extension": ".py",
   "mimetype": "text/x-python",
   "name": "python",
   "nbconvert_exporter": "python",
   "pygments_lexer": "ipython3",
   "version": "3.10.9"
  }
 },
 "nbformat": 4,
 "nbformat_minor": 5
}
