{
 "cells": [
  {
   "cell_type": "code",
   "execution_count": 1,
   "id": "774a57e4",
   "metadata": {},
   "outputs": [
    {
     "ename": "ModuleNotFoundError",
     "evalue": "No module named 'artlearn'",
     "output_type": "error",
     "traceback": [
      "\u001b[1;31m---------------------------------------------------------------------------\u001b[0m",
      "\u001b[1;31mModuleNotFoundError\u001b[0m                       Traceback (most recent call last)",
      "Cell \u001b[1;32mIn[1], line 1\u001b[0m\n\u001b[1;32m----> 1\u001b[0m \u001b[38;5;28;01mfrom\u001b[39;00m \u001b[38;5;21;01martlearn\u001b[39;00m \u001b[38;5;28;01mimport\u001b[39;00m ART1\n\u001b[0;32m      2\u001b[0m \u001b[38;5;28;01mimport\u001b[39;00m \u001b[38;5;21;01mnumpy\u001b[39;00m \u001b[38;5;28;01mas\u001b[39;00m \u001b[38;5;21;01mnp\u001b[39;00m\n\u001b[0;32m      4\u001b[0m \u001b[38;5;66;03m# Define the parameters for the ART1 network\u001b[39;00m\n",
      "\u001b[1;31mModuleNotFoundError\u001b[0m: No module named 'artlearn'"
     ]
    }
   ],
   "source": [
    "from artlearn import ART1\n",
    "import numpy as np\n",
    "\n",
    "# Define the parameters for the ART1 network\n",
    "num_categories = 3\n",
    "num_features = 8  # 8-bit binary representation for each alphabet\n",
    "rho = 0.5  # vigilance parameter\n",
    "\n",
    "# Create an instance of the ART1 network\n",
    "art = ART1(num_categories, num_features, rho)\n",
    "\n",
    "# Define binary patterns representing alphabets (A, B, C)\n",
    "input_patterns = [\n",
    "    [0, 1, 0, 0, 0, 0, 0, 1],  # A: 01000001\n",
    "    [0, 1, 0, 0, 0, 0, 1, 0],  # B: 01000010\n",
    "    [0, 1, 0, 0, 0, 0, 1, 1]   # C: 01000011\n",
    "]\n",
    "\n",
    "# Fit the network to the input patterns\n",
    "art.fit(input_patterns)\n",
    "\n",
    "# Define a function to classify a new pattern\n",
    "def classify_alphabet(pattern):\n",
    "    category = art.predict(np.array(pattern).reshape(1, -1))\n",
    "    if category == 0:\n",
    "        return \"A\"\n",
    "    elif category == 1:\n",
    "        return \"B\"\n",
    "    elif category == 2:\n",
    "        return \"C\"\n",
    "    else:\n",
    "        return \"Unknown\"\n",
    "\n",
    "# User input for a new pattern\n",
    "print(\"Enter the 8-bit binary pattern for the new alphabet:\")\n",
    "new_pattern = []\n",
    "for i in range(num_features):\n",
    "    while True:\n",
    "        value = input(f\"Enter bit {i + 1}: \")\n",
    "        if len(value) == 1 and value in ['0', '1']:\n",
    "            new_pattern.append(int(value))\n",
    "            break\n",
    "        else:\n",
    "            print(\"Please enter a single binary digit (0 or 1).\")\n",
    "\n",
    "# Classify the user-input pattern\n",
    "result = classify_alphabet(new_pattern)\n",
    "print(f\"The new pattern represents alphabet {result}.\")"
   ]
  },
  {
   "cell_type": "code",
   "execution_count": 2,
   "id": "b443fbea",
   "metadata": {},
   "outputs": [
    {
     "name": "stdout",
     "output_type": "stream",
     "text": [
      "Collecting artlearn\n",
      "  Downloading artlearn-0.1.0-py3-none-any.whl (7.0 kB)\n",
      "Requirement already satisfied: numpy>=1.19.5 in c:\\users\\prerana\\anaconda3\\lib\\site-packages (from artlearn) (1.23.5)\n",
      "Requirement already satisfied: scikit-learn>=0.22.2 in c:\\users\\prerana\\anaconda3\\lib\\site-packages (from artlearn) (1.2.2)\n",
      "Requirement already satisfied: scipy>=1.4.1 in c:\\users\\prerana\\anaconda3\\lib\\site-packages (from artlearn) (1.10.0)\n",
      "Requirement already satisfied: joblib>=1.1.1 in c:\\users\\prerana\\anaconda3\\lib\\site-packages (from scikit-learn>=0.22.2->artlearn) (1.1.1)\n",
      "Requirement already satisfied: threadpoolctl>=2.0.0 in c:\\users\\prerana\\anaconda3\\lib\\site-packages (from scikit-learn>=0.22.2->artlearn) (2.2.0)\n",
      "Installing collected packages: artlearn\n",
      "Successfully installed artlearn-0.1.0\n"
     ]
    }
   ],
   "source": [
    "!pip install artlearn\n"
   ]
  },
  {
   "cell_type": "code",
   "execution_count": null,
   "id": "069ba0cb",
   "metadata": {},
   "outputs": [],
   "source": []
  }
 ],
 "metadata": {
  "kernelspec": {
   "display_name": "Python 3 (ipykernel)",
   "language": "python",
   "name": "python3"
  },
  "language_info": {
   "codemirror_mode": {
    "name": "ipython",
    "version": 3
   },
   "file_extension": ".py",
   "mimetype": "text/x-python",
   "name": "python",
   "nbconvert_exporter": "python",
   "pygments_lexer": "ipython3",
   "version": "3.10.9"
  }
 },
 "nbformat": 4,
 "nbformat_minor": 5
}
