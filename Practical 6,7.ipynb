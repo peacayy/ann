{
 "cells": [
  {
   "cell_type": "code",
   "execution_count": 1,
   "id": "fb9a1089",
   "metadata": {},
   "outputs": [],
   "source": [
    "# Implement Artificial Neural Network training process in Python by using Forward Propagation, Back Propagation\n",
    "import numpy as np"
   ]
  },
  {
   "cell_type": "code",
   "execution_count": 2,
   "id": "fe49211c",
   "metadata": {},
   "outputs": [],
   "source": [
    "class NeuralNetwork:\n",
    "    def __init__(self,input_size,hidden_size,output_size):\n",
    "        self.input_size = input_size\n",
    "        self.hidden_size = hidden_size\n",
    "        self.output_size = output_size\n",
    "\n",
    "        self.weight1 = np.random.randn(self.input_size , self.hidden_size)\n",
    "        self.weight2  = np.random.randn(self.hidden_size , self.output_size)\n",
    "\n",
    "    def sigmoid(self,x):\n",
    "        return 1/(1+np.exp(-x))\n",
    "\n",
    "    def derivative(self,x):\n",
    "        return x * (1-x)\n",
    "\n",
    "    def forward(self,x):\n",
    "        self.z = np.dot(x,self.weight1)\n",
    "        self.z2 = self.sigmoid(self.z)\n",
    "\n",
    "        self.z3 = np.dot(self.z2,self.weight2)\n",
    "        output = self.sigmoid(self.z3)\n",
    "        return output\n",
    "        \n",
    "    def backward(self,x,y,output):\n",
    "        self.output_error = y - output\n",
    "        self.output_delta = self.output_error * self.derivative(output)\n",
    "\n",
    "        self.z2_error = self.output_delta.dot(self.weight2.T)\n",
    "        self.z2_delta = self.z2_error * self.derivative(self.z2)\n",
    "\n",
    "        self.weight1 += X.T.dot(self.z2_delta)\n",
    "        self.weight2 += self.z2.T.dot(self.output_delta)\n",
    "\n",
    "    def train(self,X, y ,epochs):\n",
    "        for epoch in range(epochs) :\n",
    "            output =self.forward(X)\n",
    "\n",
    "            self.backward(X,y,output)"
   ]
  },
  {
   "cell_type": "code",
   "execution_count": 3,
   "id": "0ef5099a",
   "metadata": {},
   "outputs": [],
   "source": [
    "nn = NeuralNetwork(input_size=2,hidden_size =3 ,output_size =1)"
   ]
  },
  {
   "cell_type": "code",
   "execution_count": 4,
   "id": "7e62e5af",
   "metadata": {},
   "outputs": [],
   "source": [
    "X = np.array([[0,0],[0,1],[1,0],[1,1]])\n",
    "y = np.array([[0],[1],[1],[0]])\n",
    "\n",
    "nn.train(X,y,epochs=10000)"
   ]
  },
  {
   "cell_type": "code",
   "execution_count": 5,
   "id": "b50ef482",
   "metadata": {},
   "outputs": [
    {
     "name": "stdout",
     "output_type": "stream",
     "text": [
      "[[0.24716391]\n",
      " [0.90875326]\n",
      " [0.96852201]\n",
      " [0.08018506]]\n"
     ]
    }
   ],
   "source": [
    "new_data = np.array([[0,0.3],[0,0.8],[1,0.2],[1,0.6]])\n",
    "predictions = nn.forward(new_data)\n",
    "print(predictions)"
   ]
  },
  {
   "cell_type": "code",
   "execution_count": null,
   "id": "8b432e77",
   "metadata": {},
   "outputs": [],
   "source": []
  }
 ],
 "metadata": {
  "kernelspec": {
   "display_name": "Python 3 (ipykernel)",
   "language": "python",
   "name": "python3"
  },
  "language_info": {
   "codemirror_mode": {
    "name": "ipython",
    "version": 3
   },
   "file_extension": ".py",
   "mimetype": "text/x-python",
   "name": "python",
   "nbconvert_exporter": "python",
   "pygments_lexer": "ipython3",
   "version": "3.11.5"
  }
 },
 "nbformat": 4,
 "nbformat_minor": 5
}
