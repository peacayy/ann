{
 "cells": [
  {
   "cell_type": "code",
   "execution_count": 2,
   "id": "00b4f474",
   "metadata": {},
   "outputs": [
    {
     "name": "stdout",
     "output_type": "stream",
     "text": [
      "the predicted number is odd\n"
     ]
    }
   ],
   "source": [
    "import numpy as np\n",
    "class Perceptron:\n",
    "    def __init__(self,input_size):\n",
    "        self.weights= np.zeros(input_size)\n",
    "        self.bias =0\n",
    "\n",
    "    def predict(self,inputs):\n",
    "        return np.dot(self.weights,inputs)+self.bias>0\n",
    "\n",
    "    def train(self,training_input,labels,epochs=100,learning_rate=0.1):\n",
    "        for epoch in range(epochs):\n",
    "            for i,label in zip(training_input,labels):\n",
    "                inputs = np.array(i)\n",
    "                prediction = self.predict(inputs)\n",
    "                self.weights += learning_rate * (label - prediction) * inputs\n",
    "                self.bias += learning_rate * (label - prediction)\n",
    "def ascii_binary(ascii_value):\n",
    "    binary = bin(ascii_value)[2:]\n",
    "    binary_arr = [int(bit) for bit in binary]\n",
    "    while len(binary_arr)<8:\n",
    "        binary_arr.insert(0,0)\n",
    "    return binary_arr\n",
    "training_inputs = [ascii_binary((ord(str(digit)))) for digit in range (10)]\n",
    "labels = [0,1,0,1,0,1,0,1,0,1]\n",
    "perceptron = Perceptron(input_size=len(training_inputs[0]))\n",
    "perceptron.train(training_inputs,labels)\n",
    "test_val = ascii_binary(ord('9'))\n",
    "if(perceptron.predict(test_val)):\n",
    "    result =\"odd\"\n",
    "else:\n",
    "    result =\"even\"\n",
    "\n",
    "print(f\"the predicted number is {result}\")"
   ]
  },
  {
   "cell_type": "code",
   "execution_count": null,
   "id": "0eeca1a3",
   "metadata": {},
   "outputs": [],
   "source": []
  },
  {
   "cell_type": "code",
   "execution_count": null,
   "id": "4550e607",
   "metadata": {},
   "outputs": [],
   "source": []
  },
  {
   "cell_type": "code",
   "execution_count": null,
   "id": "5c2872a2",
   "metadata": {},
   "outputs": [],
   "source": []
  },
  {
   "cell_type": "code",
   "execution_count": null,
   "id": "8020beb9",
   "metadata": {},
   "outputs": [],
   "source": [
    " "
   ]
  }
 ],
 "metadata": {
  "kernelspec": {
   "display_name": "Python 3 (ipykernel)",
   "language": "python",
   "name": "python3"
  },
  "language_info": {
   "codemirror_mode": {
    "name": "ipython",
    "version": 3
   },
   "file_extension": ".py",
   "mimetype": "text/x-python",
   "name": "python",
   "nbconvert_exporter": "python",
   "pygments_lexer": "ipython3",
   "version": "3.10.9"
  }
 },
 "nbformat": 4,
 "nbformat_minor": 5
}
