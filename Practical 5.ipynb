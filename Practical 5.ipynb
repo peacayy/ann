{
 "cells": [
  {
   "cell_type": "code",
   "execution_count": 1,
   "id": "97d2bca2",
   "metadata": {},
   "outputs": [],
   "source": [
    "#Write a python Program for Bidirectional Associative Memory with two pairs of vectors\n",
    "\n",
    "import numpy as np"
   ]
  },
  {
   "cell_type": "code",
   "execution_count": 9,
   "id": "e9bbfd0e",
   "metadata": {},
   "outputs": [],
   "source": [
    "class BAM:\n",
    "    def __init__(self,input_size,output_size):\n",
    "        self.weights = np.zeros((input_size,output_size))\n",
    "\n",
    "    def train(self,input_pattern,output_pattern):\n",
    "        for i in range(input_pattern.shape[0]):\n",
    "            x = input_pattern[i]\n",
    "            y = output_pattern[i]\n",
    "            self.weights += np.outer(x,y) \n",
    "\n",
    "    def recall_input(self,output_pattern):\n",
    "        return np.dot(output_pattern , self.weights)\n",
    "\n",
    "    def recall_output(self,input_pattern):\n",
    "        return np.dot(input_pattern , self.weights)"
   ]
  },
  {
   "cell_type": "code",
   "execution_count": 11,
   "id": "863eb82e",
   "metadata": {},
   "outputs": [],
   "source": [
    "input_pattern = np.array([[1,-1],[-1,1]])\n",
    "output_pattern = np.array([[-1,1],[1,-1]])\n",
    "input_size =len(input_pattern[1])   #or simply input_size =2\n",
    "output_size =len(output_pattern[1]) #or simply output_size =2\n",
    "bam = BAM(input_size,output_size)\n",
    "bam.train(input_pattern , output_pattern)"
   ]
  },
  {
   "cell_type": "code",
   "execution_count": 12,
   "id": "dc69bde9",
   "metadata": {},
   "outputs": [
    {
     "name": "stdout",
     "output_type": "stream",
     "text": [
      "Input Recalled: [[ 4. -4.]\n",
      " [-4.  4.]]\n",
      "From Output : [[-1  1]\n",
      " [ 1 -1]]\n"
     ]
    }
   ],
   "source": [
    "input_recall = bam.recall_input(output_pattern)\n",
    "print(\"Input Recalled:\",input_recall )\n",
    "print(\"From Output :\",output_pattern)"
   ]
  },
  {
   "cell_type": "code",
   "execution_count": 13,
   "id": "d5be4fe8",
   "metadata": {},
   "outputs": [
    {
     "name": "stdout",
     "output_type": "stream",
     "text": [
      "Input: [[ 1 -1]\n",
      " [-1  1]]\n",
      "Output Recalled: [[-4.  4.]\n",
      " [ 4. -4.]]\n"
     ]
    }
   ],
   "source": [
    "output_recalled = bam.recall_output(input_pattern)\n",
    "print(\"Input:\",input_pattern)\n",
    "print(\"Output Recalled:\",output_recalled)"
   ]
  },
  {
   "cell_type": "code",
   "execution_count": null,
   "id": "a3661cc0",
   "metadata": {},
   "outputs": [],
   "source": []
  }
 ],
 "metadata": {
  "kernelspec": {
   "display_name": "Python 3 (ipykernel)",
   "language": "python",
   "name": "python3"
  },
  "language_info": {
   "codemirror_mode": {
    "name": "ipython",
    "version": 3
   },
   "file_extension": ".py",
   "mimetype": "text/x-python",
   "name": "python",
   "nbconvert_exporter": "python",
   "pygments_lexer": "ipython3",
   "version": "3.11.5"
  }
 },
 "nbformat": 4,
 "nbformat_minor": 5
}
